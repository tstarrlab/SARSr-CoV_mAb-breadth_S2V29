{
 "cells": [
  {
   "cell_type": "markdown",
   "metadata": {},
   "source": [
    "# Create TAR file of FASTQs and upload to SRA\n",
    "This Python Jupyter notebook creates a `*.tar` file of the FASTQs and uploads them to the SRA.\n",
    "\n",
    "First, import Python modules:"
   ]
  },
  {
   "cell_type": "code",
   "execution_count": 1,
   "metadata": {
    "execution": {
     "iopub.execute_input": "2021-07-12T19:46:20.552498Z",
     "iopub.status.busy": "2021-07-12T19:46:20.551999Z",
     "iopub.status.idle": "2021-07-12T19:46:22.763410Z",
     "shell.execute_reply": "2021-07-12T19:46:22.764018Z"
    }
   },
   "outputs": [],
   "source": [
    "import datetime\n",
    "import ftplib\n",
    "import os\n",
    "import tarfile\n",
    "\n",
    "import pandas as pd\n",
    "\n",
    "import yaml"
   ]
  },
  {
   "cell_type": "markdown",
   "metadata": {},
   "source": [
    "Read in the FASTQ files to upload:"
   ]
  },
  {
   "cell_type": "code",
   "execution_count": 2,
   "metadata": {
    "execution": {
     "iopub.execute_input": "2021-07-12T19:46:22.767112Z",
     "iopub.status.busy": "2021-07-12T19:46:22.766251Z",
     "iopub.status.idle": "2021-07-12T19:46:22.793415Z",
     "shell.execute_reply": "2021-07-12T19:46:22.793994Z"
    }
   },
   "outputs": [],
   "source": [
    "with open('upload_config.yaml') as f:\n",
    "    config = yaml.safe_load(f)\n",
    "    \n",
    "fastqs = pd.read_csv('FASTQs_to_upload.csv')"
   ]
  },
  {
   "cell_type": "markdown",
   "metadata": {},
   "source": [
    "Now we need to make a `*.tar` file with all of the files.\n",
    "Note that this step **will take a long time to run**."
   ]
  },
  {
   "cell_type": "code",
   "execution_count": 3,
   "metadata": {
    "execution": {
     "iopub.execute_input": "2021-07-12T19:46:22.796988Z",
     "iopub.status.busy": "2021-07-12T19:46:22.796120Z",
     "iopub.status.idle": "2021-07-12T19:54:51.362213Z",
     "shell.execute_reply": "2021-07-12T19:54:51.361789Z"
    }
   },
   "outputs": [
    {
     "name": "stdout",
     "output_type": "stream",
     "text": [
      "Adding file 1 of 272 to SRA_submission.tar\n",
      "Adding file 2 of 272 to SRA_submission.tar\n",
      "Adding file 3 of 272 to SRA_submission.tar\n",
      "Adding file 4 of 272 to SRA_submission.tar\n",
      "Adding file 5 of 272 to SRA_submission.tar\n",
      "Adding file 6 of 272 to SRA_submission.tar\n",
      "Adding file 7 of 272 to SRA_submission.tar\n",
      "Adding file 8 of 272 to SRA_submission.tar\n",
      "Adding file 9 of 272 to SRA_submission.tar\n",
      "Adding file 10 of 272 to SRA_submission.tar\n",
      "Adding file 11 of 272 to SRA_submission.tar\n",
      "Adding file 12 of 272 to SRA_submission.tar\n",
      "Adding file 13 of 272 to SRA_submission.tar\n",
      "Adding file 14 of 272 to SRA_submission.tar\n",
      "Adding file 15 of 272 to SRA_submission.tar\n",
      "Adding file 16 of 272 to SRA_submission.tar\n",
      "Adding file 17 of 272 to SRA_submission.tar\n",
      "Adding file 18 of 272 to SRA_submission.tar\n",
      "Adding file 19 of 272 to SRA_submission.tar\n",
      "Adding file 20 of 272 to SRA_submission.tar\n",
      "Adding file 21 of 272 to SRA_submission.tar\n",
      "Adding file 22 of 272 to SRA_submission.tar\n",
      "Adding file 23 of 272 to SRA_submission.tar\n",
      "Adding file 24 of 272 to SRA_submission.tar\n",
      "Adding file 25 of 272 to SRA_submission.tar\n",
      "Adding file 26 of 272 to SRA_submission.tar\n",
      "Adding file 27 of 272 to SRA_submission.tar\n",
      "Adding file 28 of 272 to SRA_submission.tar\n",
      "Adding file 29 of 272 to SRA_submission.tar\n",
      "Adding file 30 of 272 to SRA_submission.tar\n",
      "Adding file 31 of 272 to SRA_submission.tar\n",
      "Adding file 32 of 272 to SRA_submission.tar\n",
      "Adding file 33 of 272 to SRA_submission.tar\n",
      "Adding file 34 of 272 to SRA_submission.tar\n",
      "Adding file 35 of 272 to SRA_submission.tar\n",
      "Adding file 36 of 272 to SRA_submission.tar\n",
      "Adding file 37 of 272 to SRA_submission.tar\n",
      "Adding file 38 of 272 to SRA_submission.tar\n",
      "Adding file 39 of 272 to SRA_submission.tar\n",
      "Adding file 40 of 272 to SRA_submission.tar\n",
      "Adding file 41 of 272 to SRA_submission.tar\n",
      "Adding file 42 of 272 to SRA_submission.tar\n",
      "Adding file 43 of 272 to SRA_submission.tar\n",
      "Adding file 44 of 272 to SRA_submission.tar\n",
      "Adding file 45 of 272 to SRA_submission.tar\n",
      "Adding file 46 of 272 to SRA_submission.tar\n",
      "Adding file 47 of 272 to SRA_submission.tar\n",
      "Adding file 48 of 272 to SRA_submission.tar\n",
      "Adding file 49 of 272 to SRA_submission.tar\n",
      "Adding file 50 of 272 to SRA_submission.tar\n",
      "Adding file 51 of 272 to SRA_submission.tar\n",
      "Adding file 52 of 272 to SRA_submission.tar\n",
      "Adding file 53 of 272 to SRA_submission.tar\n",
      "Adding file 54 of 272 to SRA_submission.tar\n",
      "Adding file 55 of 272 to SRA_submission.tar\n",
      "Adding file 56 of 272 to SRA_submission.tar\n",
      "Adding file 57 of 272 to SRA_submission.tar\n",
      "Adding file 58 of 272 to SRA_submission.tar\n",
      "Adding file 59 of 272 to SRA_submission.tar\n",
      "Adding file 60 of 272 to SRA_submission.tar\n",
      "Adding file 61 of 272 to SRA_submission.tar\n",
      "Adding file 62 of 272 to SRA_submission.tar\n",
      "Adding file 63 of 272 to SRA_submission.tar\n",
      "Adding file 64 of 272 to SRA_submission.tar\n",
      "Adding file 65 of 272 to SRA_submission.tar\n",
      "Adding file 66 of 272 to SRA_submission.tar\n",
      "Adding file 67 of 272 to SRA_submission.tar\n",
      "Adding file 68 of 272 to SRA_submission.tar\n",
      "Adding file 69 of 272 to SRA_submission.tar\n",
      "Adding file 70 of 272 to SRA_submission.tar\n",
      "Adding file 71 of 272 to SRA_submission.tar\n",
      "Adding file 72 of 272 to SRA_submission.tar\n",
      "Adding file 73 of 272 to SRA_submission.tar\n",
      "Adding file 74 of 272 to SRA_submission.tar\n",
      "Adding file 75 of 272 to SRA_submission.tar\n",
      "Adding file 76 of 272 to SRA_submission.tar\n",
      "Adding file 77 of 272 to SRA_submission.tar\n",
      "Adding file 78 of 272 to SRA_submission.tar\n",
      "Adding file 79 of 272 to SRA_submission.tar\n",
      "Adding file 80 of 272 to SRA_submission.tar\n",
      "Adding file 81 of 272 to SRA_submission.tar\n",
      "Adding file 82 of 272 to SRA_submission.tar\n",
      "Adding file 83 of 272 to SRA_submission.tar\n",
      "Adding file 84 of 272 to SRA_submission.tar\n",
      "Adding file 85 of 272 to SRA_submission.tar\n",
      "Adding file 86 of 272 to SRA_submission.tar\n",
      "Adding file 87 of 272 to SRA_submission.tar\n",
      "Adding file 88 of 272 to SRA_submission.tar\n",
      "Adding file 89 of 272 to SRA_submission.tar\n",
      "Adding file 90 of 272 to SRA_submission.tar\n",
      "Adding file 91 of 272 to SRA_submission.tar\n",
      "Adding file 92 of 272 to SRA_submission.tar\n",
      "Adding file 93 of 272 to SRA_submission.tar\n",
      "Adding file 94 of 272 to SRA_submission.tar\n",
      "Adding file 95 of 272 to SRA_submission.tar\n",
      "Adding file 96 of 272 to SRA_submission.tar\n",
      "Adding file 97 of 272 to SRA_submission.tar\n",
      "Adding file 98 of 272 to SRA_submission.tar\n",
      "Adding file 99 of 272 to SRA_submission.tar\n",
      "Adding file 100 of 272 to SRA_submission.tar\n",
      "Adding file 101 of 272 to SRA_submission.tar\n",
      "Adding file 102 of 272 to SRA_submission.tar\n",
      "Adding file 103 of 272 to SRA_submission.tar\n",
      "Adding file 104 of 272 to SRA_submission.tar\n",
      "Adding file 105 of 272 to SRA_submission.tar\n",
      "Adding file 106 of 272 to SRA_submission.tar\n",
      "Adding file 107 of 272 to SRA_submission.tar\n",
      "Adding file 108 of 272 to SRA_submission.tar\n",
      "Adding file 109 of 272 to SRA_submission.tar\n",
      "Adding file 110 of 272 to SRA_submission.tar\n",
      "Adding file 111 of 272 to SRA_submission.tar\n",
      "Adding file 112 of 272 to SRA_submission.tar\n",
      "Adding file 113 of 272 to SRA_submission.tar\n",
      "Adding file 114 of 272 to SRA_submission.tar\n",
      "Adding file 115 of 272 to SRA_submission.tar\n",
      "Adding file 116 of 272 to SRA_submission.tar\n",
      "Adding file 117 of 272 to SRA_submission.tar\n",
      "Adding file 118 of 272 to SRA_submission.tar\n",
      "Adding file 119 of 272 to SRA_submission.tar\n",
      "Adding file 120 of 272 to SRA_submission.tar\n",
      "Adding file 121 of 272 to SRA_submission.tar\n",
      "Adding file 122 of 272 to SRA_submission.tar\n",
      "Adding file 123 of 272 to SRA_submission.tar\n",
      "Adding file 124 of 272 to SRA_submission.tar\n",
      "Adding file 125 of 272 to SRA_submission.tar\n",
      "Adding file 126 of 272 to SRA_submission.tar\n",
      "Adding file 127 of 272 to SRA_submission.tar\n",
      "Adding file 128 of 272 to SRA_submission.tar\n",
      "Adding file 129 of 272 to SRA_submission.tar\n",
      "Adding file 130 of 272 to SRA_submission.tar\n",
      "Adding file 131 of 272 to SRA_submission.tar\n",
      "Adding file 132 of 272 to SRA_submission.tar\n",
      "Adding file 133 of 272 to SRA_submission.tar\n",
      "Adding file 134 of 272 to SRA_submission.tar\n",
      "Adding file 135 of 272 to SRA_submission.tar\n",
      "Adding file 136 of 272 to SRA_submission.tar\n",
      "Adding file 137 of 272 to SRA_submission.tar\n",
      "Adding file 138 of 272 to SRA_submission.tar\n",
      "Adding file 139 of 272 to SRA_submission.tar\n",
      "Adding file 140 of 272 to SRA_submission.tar\n",
      "Adding file 141 of 272 to SRA_submission.tar\n",
      "Adding file 142 of 272 to SRA_submission.tar\n",
      "Adding file 143 of 272 to SRA_submission.tar\n",
      "Adding file 144 of 272 to SRA_submission.tar\n",
      "Adding file 145 of 272 to SRA_submission.tar\n",
      "Adding file 146 of 272 to SRA_submission.tar\n",
      "Adding file 147 of 272 to SRA_submission.tar\n",
      "Adding file 148 of 272 to SRA_submission.tar\n",
      "Adding file 149 of 272 to SRA_submission.tar\n",
      "Adding file 150 of 272 to SRA_submission.tar\n",
      "Adding file 151 of 272 to SRA_submission.tar\n",
      "Adding file 152 of 272 to SRA_submission.tar\n",
      "Adding file 153 of 272 to SRA_submission.tar\n",
      "Adding file 154 of 272 to SRA_submission.tar\n",
      "Adding file 155 of 272 to SRA_submission.tar\n",
      "Adding file 156 of 272 to SRA_submission.tar\n",
      "Adding file 157 of 272 to SRA_submission.tar\n",
      "Adding file 158 of 272 to SRA_submission.tar\n",
      "Adding file 159 of 272 to SRA_submission.tar\n",
      "Adding file 160 of 272 to SRA_submission.tar\n",
      "Adding file 161 of 272 to SRA_submission.tar\n",
      "Adding file 162 of 272 to SRA_submission.tar\n",
      "Adding file 163 of 272 to SRA_submission.tar\n",
      "Adding file 164 of 272 to SRA_submission.tar\n",
      "Adding file 165 of 272 to SRA_submission.tar\n",
      "Adding file 166 of 272 to SRA_submission.tar\n",
      "Adding file 167 of 272 to SRA_submission.tar\n",
      "Adding file 168 of 272 to SRA_submission.tar\n",
      "Adding file 169 of 272 to SRA_submission.tar\n",
      "Adding file 170 of 272 to SRA_submission.tar\n",
      "Adding file 171 of 272 to SRA_submission.tar\n",
      "Adding file 172 of 272 to SRA_submission.tar\n",
      "Adding file 173 of 272 to SRA_submission.tar\n",
      "Adding file 174 of 272 to SRA_submission.tar\n",
      "Adding file 175 of 272 to SRA_submission.tar\n",
      "Adding file 176 of 272 to SRA_submission.tar\n",
      "Adding file 177 of 272 to SRA_submission.tar\n",
      "Adding file 178 of 272 to SRA_submission.tar\n",
      "Adding file 179 of 272 to SRA_submission.tar\n",
      "Adding file 180 of 272 to SRA_submission.tar\n",
      "Adding file 181 of 272 to SRA_submission.tar\n",
      "Adding file 182 of 272 to SRA_submission.tar\n",
      "Adding file 183 of 272 to SRA_submission.tar\n",
      "Adding file 184 of 272 to SRA_submission.tar\n",
      "Adding file 185 of 272 to SRA_submission.tar\n"
     ]
    },
    {
     "name": "stdout",
     "output_type": "stream",
     "text": [
      "Adding file 186 of 272 to SRA_submission.tar\n",
      "Adding file 187 of 272 to SRA_submission.tar\n",
      "Adding file 188 of 272 to SRA_submission.tar\n",
      "Adding file 189 of 272 to SRA_submission.tar\n",
      "Adding file 190 of 272 to SRA_submission.tar\n",
      "Adding file 191 of 272 to SRA_submission.tar\n",
      "Adding file 192 of 272 to SRA_submission.tar\n",
      "Adding file 193 of 272 to SRA_submission.tar\n",
      "Adding file 194 of 272 to SRA_submission.tar\n",
      "Adding file 195 of 272 to SRA_submission.tar\n",
      "Adding file 196 of 272 to SRA_submission.tar\n",
      "Adding file 197 of 272 to SRA_submission.tar\n",
      "Adding file 198 of 272 to SRA_submission.tar\n",
      "Adding file 199 of 272 to SRA_submission.tar\n",
      "Adding file 200 of 272 to SRA_submission.tar\n",
      "Adding file 201 of 272 to SRA_submission.tar\n",
      "Adding file 202 of 272 to SRA_submission.tar\n",
      "Adding file 203 of 272 to SRA_submission.tar\n",
      "Adding file 204 of 272 to SRA_submission.tar\n",
      "Adding file 205 of 272 to SRA_submission.tar\n",
      "Adding file 206 of 272 to SRA_submission.tar\n",
      "Adding file 207 of 272 to SRA_submission.tar\n",
      "Adding file 208 of 272 to SRA_submission.tar\n",
      "Adding file 209 of 272 to SRA_submission.tar\n",
      "Adding file 210 of 272 to SRA_submission.tar\n",
      "Adding file 211 of 272 to SRA_submission.tar\n",
      "Adding file 212 of 272 to SRA_submission.tar\n",
      "Adding file 213 of 272 to SRA_submission.tar\n",
      "Adding file 214 of 272 to SRA_submission.tar\n",
      "Adding file 215 of 272 to SRA_submission.tar\n",
      "Adding file 216 of 272 to SRA_submission.tar\n",
      "Adding file 217 of 272 to SRA_submission.tar\n",
      "Adding file 218 of 272 to SRA_submission.tar\n",
      "Adding file 219 of 272 to SRA_submission.tar\n",
      "Adding file 220 of 272 to SRA_submission.tar\n",
      "Adding file 221 of 272 to SRA_submission.tar\n",
      "Adding file 222 of 272 to SRA_submission.tar\n",
      "Adding file 223 of 272 to SRA_submission.tar\n",
      "Adding file 224 of 272 to SRA_submission.tar\n",
      "Adding file 225 of 272 to SRA_submission.tar\n",
      "Adding file 226 of 272 to SRA_submission.tar\n",
      "Adding file 227 of 272 to SRA_submission.tar\n",
      "Adding file 228 of 272 to SRA_submission.tar\n",
      "Adding file 229 of 272 to SRA_submission.tar\n",
      "Adding file 230 of 272 to SRA_submission.tar\n",
      "Adding file 231 of 272 to SRA_submission.tar\n",
      "Adding file 232 of 272 to SRA_submission.tar\n",
      "Adding file 233 of 272 to SRA_submission.tar\n",
      "Adding file 234 of 272 to SRA_submission.tar\n",
      "Adding file 235 of 272 to SRA_submission.tar\n",
      "Adding file 236 of 272 to SRA_submission.tar\n",
      "Adding file 237 of 272 to SRA_submission.tar\n",
      "Adding file 238 of 272 to SRA_submission.tar\n",
      "Adding file 239 of 272 to SRA_submission.tar\n",
      "Adding file 240 of 272 to SRA_submission.tar\n",
      "Adding file 241 of 272 to SRA_submission.tar\n",
      "Adding file 242 of 272 to SRA_submission.tar\n",
      "Adding file 243 of 272 to SRA_submission.tar\n",
      "Adding file 244 of 272 to SRA_submission.tar\n",
      "Adding file 245 of 272 to SRA_submission.tar\n",
      "Adding file 246 of 272 to SRA_submission.tar\n",
      "Adding file 247 of 272 to SRA_submission.tar\n",
      "Adding file 248 of 272 to SRA_submission.tar\n",
      "Adding file 249 of 272 to SRA_submission.tar\n",
      "Adding file 250 of 272 to SRA_submission.tar\n",
      "Adding file 251 of 272 to SRA_submission.tar\n",
      "Adding file 252 of 272 to SRA_submission.tar\n",
      "Adding file 253 of 272 to SRA_submission.tar\n",
      "Adding file 254 of 272 to SRA_submission.tar\n",
      "Adding file 255 of 272 to SRA_submission.tar\n",
      "Adding file 256 of 272 to SRA_submission.tar\n",
      "Adding file 257 of 272 to SRA_submission.tar\n",
      "Adding file 258 of 272 to SRA_submission.tar\n",
      "Adding file 259 of 272 to SRA_submission.tar\n",
      "Adding file 260 of 272 to SRA_submission.tar\n",
      "Adding file 261 of 272 to SRA_submission.tar\n",
      "Adding file 262 of 272 to SRA_submission.tar\n",
      "Adding file 263 of 272 to SRA_submission.tar\n",
      "Adding file 264 of 272 to SRA_submission.tar\n",
      "Adding file 265 of 272 to SRA_submission.tar\n",
      "Adding file 266 of 272 to SRA_submission.tar\n",
      "Adding file 267 of 272 to SRA_submission.tar\n",
      "Adding file 268 of 272 to SRA_submission.tar\n",
      "Adding file 269 of 272 to SRA_submission.tar\n",
      "Adding file 270 of 272 to SRA_submission.tar\n",
      "Adding file 271 of 272 to SRA_submission.tar\n",
      "Adding file 272 of 272 to SRA_submission.tar\n",
      "Added all files to SRA_submission.tar\n"
     ]
    }
   ],
   "source": [
    "tar_filename = 'SRA_submission.tar'\n",
    "\n",
    "try:\n",
    "    with tarfile.open(tar_filename, mode='w') as f:\n",
    "        for i, tup in enumerate(fastqs.itertuples()):\n",
    "            print(f\"Adding file {i + 1} of {len(fastqs)} to {tar_filename}\")\n",
    "            f.add(tup.filename_fullpath, arcname=tup.filename)\n",
    "        print(f\"Added all files to {tar_filename}\")\n",
    "except:\n",
    "    if os.path.isfile(tar_filename):\n",
    "        os.remove(tar_filename)\n",
    "    raise"
   ]
  },
  {
   "cell_type": "markdown",
   "metadata": {},
   "source": [
    "See the size of the `*.tar` file to upload and make sure it has the expected files:"
   ]
  },
  {
   "cell_type": "code",
   "execution_count": 4,
   "metadata": {
    "execution": {
     "iopub.execute_input": "2021-07-12T19:54:51.367821Z",
     "iopub.status.busy": "2021-07-12T19:54:51.367382Z",
     "iopub.status.idle": "2021-07-12T19:54:51.619592Z",
     "shell.execute_reply": "2021-07-12T19:54:51.627082Z"
    }
   },
   "outputs": [
    {
     "name": "stdout",
     "output_type": "stream",
     "text": [
      "The size of SRA_submission.tar is 27.7 GB\n",
      "SRA_submission.tar contains all 272 expected files.\n"
     ]
    }
   ],
   "source": [
    "print(f\"The size of {tar_filename} is {os.path.getsize(tar_filename) / 1e9:.1f} GB\")\n",
    "\n",
    "with tarfile.open(tar_filename) as f:\n",
    "    files_in_tar = set(f.getnames())\n",
    "if files_in_tar == set(fastqs['filename']):\n",
    "    print(f\"{tar_filename} contains all {len(files_in_tar)} expected files.\")\n",
    "else:\n",
    "    raise ValueError(f\"{tar_filename} does not have all the expected files.\")"
   ]
  },
  {
   "cell_type": "markdown",
   "metadata": {},
   "source": [
    "We now read in the details about doing the FTP upload to the SRA.\n",
    "Note that these are set in separate files already:"
   ]
  },
  {
   "cell_type": "code",
   "execution_count": 5,
   "metadata": {
    "execution": {
     "iopub.execute_input": "2021-07-12T19:54:51.634919Z",
     "iopub.status.busy": "2021-07-12T19:54:51.630754Z",
     "iopub.status.idle": "2021-07-12T19:54:51.657386Z",
     "shell.execute_reply": "2021-07-12T19:54:51.657999Z"
    }
   },
   "outputs": [],
   "source": [
    "# the following are provided by SRA wizard insturctions\n",
    "ftp_address = 'ftp-private.ncbi.nlm.nih.gov'\n",
    "ftp_username = config['ftp_username'].strip()\n",
    "ftp_account_folder = config['ftp_account_folder'].strip()\n",
    "ftp_subfolder = config['ftp_subfolder'].strip()\n",
    "with open('ftp_password.txt') as f:\n",
    "    ftp_password = f.read().strip()"
   ]
  },
  {
   "cell_type": "markdown",
   "metadata": {},
   "source": [
    "Now create FTP connection and upload the TAR file.\n",
    "Note that this takes a while.\n",
    "If you are worried that it will timeout given the size of your file, you can run this notebook via `slurm` so there is no timing out:"
   ]
  },
  {
   "cell_type": "code",
   "execution_count": 6,
   "metadata": {
    "execution": {
     "iopub.execute_input": "2021-07-12T19:54:51.673329Z",
     "iopub.status.busy": "2021-07-12T19:54:51.672391Z",
     "iopub.status.idle": "2021-07-12T20:51:28.297626Z",
     "shell.execute_reply": "2021-07-12T20:51:28.297159Z"
    }
   },
   "outputs": [
    {
     "name": "stdout",
     "output_type": "stream",
     "text": [
      "Starting upload at 2024-06-06 14:37:26.549467\n",
      "Finished upload at 2024-06-06 14:49:58.950682\n"
     ]
    }
   ],
   "source": [
    "print(f\"Starting upload at {datetime.datetime.now()}\")\n",
    "\n",
    "with ftplib.FTP(ftp_address) as ftp:\n",
    "    ftp.login(user=ftp_username,\n",
    "              passwd=ftp_password,\n",
    "              )\n",
    "    ftp.cwd(ftp_account_folder)\n",
    "    ftp.mkd(ftp_subfolder)\n",
    "    ftp.cwd(ftp_subfolder)\n",
    "    with open(tar_filename, 'rb') as f:\n",
    "        ftp.storbinary(f\"STOR {tar_filename}\", f)\n",
    "        \n",
    "print(f\"Finished upload at {datetime.datetime.now()}\")"
   ]
  },
  {
   "cell_type": "code",
   "execution_count": null,
   "metadata": {},
   "outputs": [],
   "source": []
  }
 ],
 "metadata": {
  "kernelspec": {
   "display_name": "Python 3 (ipykernel)",
   "language": "python",
   "name": "python3"
  },
  "language_info": {
   "codemirror_mode": {
    "name": "ipython",
    "version": 3
   },
   "file_extension": ".py",
   "mimetype": "text/x-python",
   "name": "python",
   "nbconvert_exporter": "python",
   "pygments_lexer": "ipython3",
   "version": "3.8.15"
  }
 },
 "nbformat": 4,
 "nbformat_minor": 4
}
